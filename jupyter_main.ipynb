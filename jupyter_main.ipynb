{
 "cells": [
  {
   "cell_type": "markdown",
   "id": "9eb7cc20d5da75c9",
   "metadata": {
    "collapsed": false
   },
   "source": [
    "# Implementación de un modelo atmosférico.\n",
    "En este notebook haremos un análisis sobre la resolución de un sistema de ecuaciones diferenciales parciales (EDP).\n",
    "\n",
    "\\begin{align*}\n",
    "\\partial_{t}\\left(\\omega\\right)-\\left(b\\left(z,t\\right)-\\dfrac{\\omega}{\\tau_{w}}\\right) & =0\\\\\n",
    "\\partial_{t}\\left(\\theta\\right)+\\partial_{z}\\left(\\omega\\theta\\right) & =0\\\\\n",
    "\\partial_{t}\\left(q_{v}\\right)+\\partial_{z}\\left(\\omega q_{v}\\right) & =0\\\\\n",
    "\\partial_{t}\\left(q_{r}\\right)+\\partial_{z}\\left(\\left(\\omega-V_{\\text{T}}\\right)q_{r}\\right) & =0\\\\\n",
    "\\partial_{t}\\left(q_{N}\\right)+\\partial_{z}\\left(\\left(\\omega-V_{\\text{TN}}\\right)q_{N}\\right) & =0\n",
    "\\end{align*}\n",
    "\n",
    "Para luego, agregarle un ruido blanco, mediante el movimiento browiano. $W_t$\n",
    "## Variables principales.\n",
    "Este modelo es una versión del modelo FARE (Fast Autoconvection Rain Evaporation). En el cual se mencionan 5 funciones principales.\n",
    "\n",
    "\\begin{align*}\n",
    "\\omega & :\\text{Velocidad vertical }\\left(\\dfrac{\\text{m}}{\\text{s}}\\right)\\\\\n",
    "\\theta & :\\text{Temperatura potencial }\\left(\\dfrac{\\text{m}}{\\text{s}}\\right)\\\\\n",
    "q_{v} & :\\text{Proporción de vapor de agua }\\left(\\dfrac{\\text{g}}{\\text{Kg}}\\right)\\\\\n",
    "q_{r} & :\\text{Proporción de agua líquida }\\left(\\dfrac{\\text{g}}{\\text{Kg}}\\right)\\\\\n",
    "q_{N} & :\\text{Proporción de núcleos de condensación }\\left(\\dfrac{\\text{g}}{\\text{Kg}}\\right)\n",
    "\\end{align*}\n",
    "\n",
    "# Implementación Númerica\n",
    "Por lo general, los EDP no pueden resolverse de forma analítica, por lo tanto recurriremos a métodos numéricos para resolverlos. Para aquello, iremos navengando por los siguientes pasos. \n",
    "\n",
    "1. Adimensionalización\n",
    "2. Implementación\n",
    "3. Resultados\n",
    "\n",
    "Todo esto dentro del lenguaje de Python. \n",
    "\n",
    "## Adimensionalizacion\n",
    "La adimensionalizacion consta de eliminar las unidades físicas de cierta cantidad mediante operaciones básicas, para aquello, primero debemos definir ciertas constantes, a las que llamaremos escalas. Estan serán fijas y permitiran una transformación consistente. "
   ]
  },
  {
   "cell_type": "code",
   "execution_count": null,
   "id": "a8028c244edba201",
   "metadata": {
    "ExecuteTime": {
     "end_time": "2023-08-22T17:43:45.374009200Z",
     "start_time": "2023-08-22T17:43:44.905232700Z"
    },
    "collapsed": false
   },
   "outputs": [
    {
     "name": "stdout",
     "output_type": "stream",
     "text": [
      "1000.0\n"
     ]
    }
   ],
   "source": [
    "import parameters as p"
   ]
  },
  {
   "cell_type": "markdown",
   "id": "32ba66437178b1c0",
   "metadata": {
    "collapsed": false
   },
   "source": [
    "Las lineas 3 a 7 del archivo parameters.py, son las escalas que utilizaremos. Una por cada variable fundamental más una auxiliar (la de la velocidad), asi por ejemplo, la gravedad esta dada por 9.81 $m/s$, entonces en nuestro sistema adimensional.\n",
    "\n",
    "$$g' = \\dfrac{g}{\\text{Vs}}$$\n",
    "\n",
    ", y cuando ocupemos recuperar la información, solo hacemos la operacion contraria $g = (g')(Vs) $. \n",
    "\n",
    "En el resto del archivo están la mayoría de parámetros ya adimensionales.\n",
    "## Implementacion (Zona de trabajo)\n",
    "Ahora incorporamos las librerias de Python básicas. "
   ]
  },
  {
   "cell_type": "code",
   "execution_count": null,
   "id": "1ea3046b591d90ce",
   "metadata": {
    "ExecuteTime": {
     "end_time": "2023-08-22T17:43:51.650479500Z",
     "start_time": "2023-08-22T17:43:50.827596400Z"
    },
    "collapsed": false
   },
   "outputs": [],
   "source": [
    "import numpy as np\n",
    "import matplotlib.pyplot as plt"
   ]
  },
  {
   "cell_type": "markdown",
   "id": "13950b83e63b3d0d",
   "metadata": {
    "collapsed": false
   },
   "source": [
    "Primero, definiremos la zona de trabajo, en este caso nuestas funciones son multivariable, es decir $\\omega\\equiv\\omega(z,t)$, donde $z$ está en km y el tiempo en minutos. En nuestro sistema, consideraremos la tropopausa como limite superior, entonces $z_0 = 0$ Km y $z = 15$Km "
   ]
  },
  {
   "cell_type": "code",
   "execution_count": null,
   "id": "c138872ebda6ad37",
   "metadata": {
    "ExecuteTime": {
     "end_time": "2023-08-22T17:43:54.491663500Z",
     "start_time": "2023-08-22T17:43:54.444794900Z"
    },
    "collapsed": false
   },
   "outputs": [],
   "source": [
    "z_0 = 0\n",
    "z_f = 15 \n",
    "z_0 = z_0 / p.length_scale  # No olvidemos adimensionalizar\n",
    "z_f = z_f / p.length_scale"
   ]
  },
  {
   "cell_type": "markdown",
   "id": "64397c59060a38ab",
   "metadata": {
    "collapsed": false
   },
   "source": [
    "Para el tiempo, consideremos la cuenta hasta los $t$ minutos, es decir, $t_0 = 0$ y $T = t$ en minutos. "
   ]
  },
  {
   "cell_type": "code",
   "execution_count": null,
   "id": "ba19f35333771963",
   "metadata": {
    "ExecuteTime": {
     "end_time": "2023-08-22T17:43:56.846441200Z",
     "start_time": "2023-08-22T17:43:56.796137Z"
    },
    "collapsed": false
   },
   "outputs": [],
   "source": [
    "t_0 = 0\n",
    "t_f = 2\n",
    "t_0 = t_0 / p.time_scale\n",
    "t_f = t_f / p.time_scale"
   ]
  },
  {
   "cell_type": "markdown",
   "id": "36fa016fa328db3b",
   "metadata": {
    "collapsed": false
   },
   "source": [
    "Luego, definimos la \"malla\", es decir una matriz de $m \\times n$, donde cada columna es un instante de tiempo y cada renglon una altura.\n",
    "\n",
    "$$M_{ij}=(z_i,t_j); 0\\leq i\\leq m, 0\\leq j \\leq n$$\n",
    "\n",
    ", aquí $m,n$ definiran el \"grosor\" de la malla, a $m,n$ más grandes, más fina sera la malla. "
   ]
  },
  {
   "cell_type": "code",
   "execution_count": null,
   "id": "a358d6645742579e",
   "metadata": {
    "ExecuteTime": {
     "end_time": "2023-08-22T17:44:02.783379Z",
     "start_time": "2023-08-22T17:44:02.735379600Z"
    },
    "collapsed": false
   },
   "outputs": [],
   "source": [
    "nz = 150 # Esta es nuesta m \n",
    "space = np.linspace(z_0,z_f,nz)\n",
    "dz = space[1] - space[0]"
   ]
  },
  {
   "cell_type": "markdown",
   "id": "776e146116e96db",
   "metadata": {
    "collapsed": false
   },
   "source": [
    "Otra forma de \"medir\" el grosor de la malla es $\\Delta z$, mientras más pequeño, más fina es la malla. En nuestro caso no definiremos el número de columnas, esto porque $\\Delta t = f(\\cdot,\\Delta t)$, es decir, ira evolucionado a lo largo de la simulación. Esa evolución vendrá dada por el Número de Courant-Friedrichs-Levy (CFL).\n",
    "\n",
    "$$\\text{CFL}=\\dfrac{c_0 \\Delta t}{\\Delta z}$$\n",
    "\n",
    ", donde $c_0$ depende del sistema a resolver y no es necesariamente constante. Más adelante retomaremos para definir $c_0$ en nuestro sistema.\n",
    "\n",
    "## Implementacion (Condiciones iniciales)\n",
    "Para nuestro problema, partiremos de funciones escalonadas, tambien conocidas como función de Heaviside\n",
    "\n",
    "$$U\\left(x\\right)=\\begin{cases}\n",
    "0 & x<0\\\\\n",
    "1 & x\\geq 0\n",
    "\\end{cases}$$"
   ]
  },
  {
   "cell_type": "code",
   "execution_count": null,
   "id": "5d43cd7bb5583332",
   "metadata": {
    "ExecuteTime": {
     "end_time": "2023-08-22T17:44:04.887829100Z",
     "start_time": "2023-08-22T17:44:04.860657900Z"
    },
    "collapsed": false
   },
   "outputs": [],
   "source": [
    "def heaviside(x):\n",
    "    if x < 0:\n",
    "        y = 0\n",
    "    else:\n",
    "        y = 1\n",
    "    return y"
   ]
  },
  {
   "cell_type": "markdown",
   "id": "1d2e55dc803094e4",
   "metadata": {
    "collapsed": false
   },
   "source": [
    "Con ella, construiremos cada una de las condiciones iniciales de las funciones.\n",
    "\n",
    "\\begin{align*}\n",
    "\\omega_{0}\\left(z,0\\right) & =U\\left(z-3\\right)\\\\\n",
    "\\theta_{0}\\left(z,0\\right) & =U\\left(z-3\\right)\\\\\n",
    "q_{v,0}\\left(z,0\\right) & =U\\left(z-3\\right)\\\\\n",
    "q_{r,0}\\left(z,0\\right) & =U\\left(z-3\\right)\\\\\n",
    "q_{N,0}\\left(z,0\\right) & =U\\left(z-3\\right)\n",
    "\\end{align*}"
   ]
  },
  {
   "cell_type": "code",
   "execution_count": 8,
   "id": "a3092188b00ea4fd",
   "metadata": {
    "ExecuteTime": {
     "end_time": "2023-08-22T17:44:08.650353500Z",
     "start_time": "2023-08-22T17:44:08.598933700Z"
    },
    "collapsed": false
   },
   "outputs": [],
   "source": [
    "cut_omega = 3 \n",
    "cut_theta = 3\n",
    "cut_qv = 3\n",
    "cut_qr = 3\n",
    "cut_qn = 3\n",
    "\n",
    "cut_omega = cut_omega / p.length_scale  # No olvidemos adimensionalizar\n",
    "cut_theta = cut_theta / p.length_scale\n",
    "cut_qv = cut_qv / p.length_scale\n",
    "cut_qr = cut_qr / p.length_scale\n",
    "cut_qn = cut_qn / p.length_scale"
   ]
  },
  {
   "cell_type": "markdown",
   "id": "bf91e7543c2682a2",
   "metadata": {
    "collapsed": false
   },
   "source": [
    "Ahora, como prueba graficaremos $\\theta_0$. "
   ]
  },
  {
   "cell_type": "code",
   "execution_count": 10,
   "id": "d66d479693097ad9",
   "metadata": {
    "ExecuteTime": {
     "end_time": "2023-08-22T17:44:19.758474100Z",
     "start_time": "2023-08-22T17:44:18.681396700Z"
    },
    "collapsed": false
   },
   "outputs": [
    {
     "data": {
      "text/plain": [
       "[<matplotlib.lines.Line2D at 0x15de645b9d0>]"
      ]
     },
     "execution_count": 10,
     "metadata": {},
     "output_type": "execute_result"
    },
    {
     "data": {
      "image/png": "[encoded data removed]",
      "text/plain": [
       "<Figure size 640x480 with 2 Axes>"
      ]
     },
     "metadata": {},
     "output_type": "display_data"
    },
    {
     "data": {
      "image/png": "[encoded data removed]",
      "text/plain": [
       "<Figure size 640x480 with 4 Axes>"
      ]
     },
     "metadata": {},
     "output_type": "display_data"
    }
   ],
   "source": [
    "wt_plots, ax = plt.subplots(1, 2)\n",
    "qvrn_plots, axq = plt.subplots(2,2)\n",
    "ax[0].plot([heaviside(i - cut_omega) for i in space],space)\n",
    "ax[1].plot([heaviside(i - cut_theta) for i in space],space)\n",
    "\n",
    "axq[0,0].plot([heaviside(i - cut_omega) for i in space],space)\n",
    "axq[0,1].plot([heaviside(i - cut_qv) for i in space],space)\n",
    "axq[1,0].plot([heaviside(i - cut_qr) for i in space],space)\n",
    "axq[1,1].plot([heaviside(i - cut_qn) for i in space],space)"
   ]
  },
  {
   "cell_type": "markdown",
   "id": "7f9fa5d00b5b24bb",
   "metadata": {
    "collapsed": false
   },
   "source": [
    "Para el resto del trabajo, usaremos la siguiente función. La que nos permitirá graficar de una forma más sencilla. "
   ]
  },
  {
   "cell_type": "code",
   "execution_count": 11,
   "id": "9971eb4c0fe40dad",
   "metadata": {
    "ExecuteTime": {
     "end_time": "2023-08-22T17:44:25.615360500Z",
     "start_time": "2023-08-22T17:44:25.396512100Z"
    },
    "collapsed": false
   },
   "outputs": [],
   "source": [
    "def system_plots(velocity,temperature,vapor,water,core):\n",
    "    wt_plots, ax = plt.subplots(1, 2)\n",
    "    qvrn_plots, axq = plt.subplots(2,2)\n",
    "    ax[0].plot(velocity * p.velocity_scale,space * p.length_scale)\n",
    "    ax[1].plot(temperature * p.temperature_scale,space * p.length_scale)\n",
    "    axq[0,0].plot(velocity * p.velocity_scale,space * p.length_scale)\n",
    "    axq[0,1].plot(vapor * p.ratio_scale,space * p.length_scale)\n",
    "    axq[1,0].plot(water * p.ratio_scale,space * p.length_scale)\n",
    "    axq[1,1].plot(core * p.ratio_scale,space * p.length_scale)\n",
    "    plt.show()"
   ]
  },
  {
   "cell_type": "markdown",
   "id": "ad46014f725a29ad",
   "metadata": {
    "collapsed": false
   },
   "source": [
    "Entonces, construimos la zona de trabajo. Es decir, el espacio dedicado a guardar el comportamiento del sistema a lo largo del tiempo. Esta será una matriz de $nz\\times 5$. Esto porque debe almacenar las 5 variables en cada punto de la partición de la altura $[0,15]$."
   ]
  },
  {
   "cell_type": "code",
   "execution_count": 12,
   "id": "7ab2c12550455c17",
   "metadata": {
    "ExecuteTime": {
     "end_time": "2023-08-22T17:44:28.205846500Z",
     "start_time": "2023-08-22T17:44:28.174596100Z"
    },
    "collapsed": false
   },
   "outputs": [],
   "source": [
    "workspace = np.zeros((nz,5))\n",
    "# Columna 0, Velocidad\n",
    "# Columna 1, Temperatura potencial\n",
    "# Columna 2, Vapor de agua\n",
    "# Columna 3, Agua Líquida\n",
    "# Columna 4, Núcleos de Condensación"
   ]
  },
  {
   "cell_type": "markdown",
   "id": "423e9090eac89548",
   "metadata": {
    "collapsed": false
   },
   "source": [
    "Ahora, procedemos con la resolución del sistema, para ello, fijaremos la velocidad $\\omega(z,t)=-1,\\forall z\\in [0,15],t\\in\\mathbb{R}^{+}$."
   ]
  },
  {
   "cell_type": "code",
   "execution_count": 13,
   "id": "6bf01d6005519fa3",
   "metadata": {
    "ExecuteTime": {
     "end_time": "2023-08-22T17:44:30.232517600Z",
     "start_time": "2023-08-22T17:44:30.185529800Z"
    },
    "collapsed": false
   },
   "outputs": [],
   "source": [
    "workspace[:, 0] = -1\n",
    "workspace[:, 1] = [heaviside(i - cut_theta) for i in space]\n",
    "workspace[:, 2] = [heaviside(i - cut_qv) for i in space]\n",
    "workspace[:, 3] = [heaviside(i - cut_qr) for i in space]\n",
    "workspace[:, 4] = [heaviside(i - cut_qn) for i in space]"
   ]
  },
  {
   "cell_type": "markdown",
   "id": "8f76d98687f73072",
   "metadata": {
    "collapsed": false
   },
   "source": [
    "Realizando una prueba, graficando cada uno de las columnas de workspace."
   ]
  },
  {
   "cell_type": "code",
   "execution_count": 14,
   "id": "ee2a9d0810ec68f",
   "metadata": {
    "ExecuteTime": {
     "end_time": "2023-08-22T17:44:33.317118700Z",
     "start_time": "2023-08-22T17:44:32.783659900Z"
    },
    "collapsed": false
   },
   "outputs": [
    {
     "data": {
      "image/png": "[encoded data removed]",
      "text/plain": [
       "<Figure size 640x480 with 2 Axes>"
      ]
     },
     "metadata": {},
     "output_type": "display_data"
    },
    {
     "data": {
      "image/png": "[encoded data removed]",
      "text/plain": [
       "<Figure size 640x480 with 4 Axes>"
      ]
     },
     "metadata": {},
     "output_type": "display_data"
    }
   ],
   "source": [
    "system_plots(workspace[:,0],workspace[:,1],workspace[:,2],workspace[:,3],workspace[:,4])"
   ]
  },
  {
   "cell_type": "markdown",
   "id": "f146817e4d8fa379",
   "metadata": {
    "collapsed": false
   },
   "source": [
    "Entonces, redefinimos la función para graficar, aprovechando la forma de workspace."
   ]
  },
  {
   "cell_type": "code",
   "execution_count": 15,
   "id": "c27e73f1edf5a0be",
   "metadata": {
    "ExecuteTime": {
     "end_time": "2023-08-22T17:44:36.028111400Z",
     "start_time": "2023-08-22T17:44:35.332898900Z"
    },
    "collapsed": false
   },
   "outputs": [
    {
     "data": {
      "image/png": "[encoded data removed]",
      "text/plain": [
       "<Figure size 640x480 with 2 Axes>"
      ]
     },
     "metadata": {},
     "output_type": "display_data"
    },
    {
     "data": {
      "image/png": "[encoded data removed]",
      "text/plain": [
       "<Figure size 640x480 with 4 Axes>"
      ]
     },
     "metadata": {},
     "output_type": "display_data"
    }
   ],
   "source": [
    "def workspace_plots(wspace):\n",
    "    system_plots(wspace[:,0],wspace[:,1],wspace[:,2],wspace[:,3],wspace[:,4])\n",
    "workspace_plots(workspace)"
   ]
  },
  {
   "cell_type": "markdown",
   "id": "a3e8f782fc5eb30b",
   "metadata": {
    "collapsed": false
   },
   "source": [
    "Ahora, comenzamos con la solución, para ello, retomemos el sistema visto al comienzo. \n",
    "\\begin{align*}\n",
    "\\partial_{t}\\left(\\omega\\right)-\\left(b\\left(z,t\\right)-\\dfrac{\\omega}{\\tau_{w}}\\right) & =0\\\\\n",
    "\\partial_{t}\\left(\\theta\\right)+\\partial_{z}\\left(\\omega\\theta\\right) & =0\\\\\n",
    "\\partial_{t}\\left(q_{v}\\right)+\\partial_{z}\\left(\\omega q_{v}\\right) & =0\\\\\n",
    "\\partial_{t}\\left(q_{r}\\right)+\\partial_{z}\\left(\\left(\\omega-V_{\\text{T}}\\right)q_{r}\\right) & =0\\\\\n",
    "\\partial_{t}\\left(q_{N}\\right)+\\partial_{z}\\left(\\left(\\omega-V_{\\text{TN}}\\right)q_{N}\\right) & =0\n",
    "\\end{align*}\n",
    "\n",
    "Como $\\omega\\equiv -1$, entonces el sistema queda como sigue\n",
    "\n",
    "\\begin{align*}\n",
    "\\omega(z,t) & =-1\\\\\n",
    "\\partial_{t}\\left(\\theta\\right)-\\partial_{z}\\left(\\theta\\right) & =0\\\\\n",
    "\\partial_{t}\\left(q_{v}\\right)-\\partial_{z}\\left(q_{v}\\right) & =0\\\\\n",
    "\\partial_{t}\\left(q_{r}\\right)-\\partial_{z}\\left(\\left(1+V_{\\text{T}}\\right)q_{r}\\right) & =0\\\\\n",
    "\\partial_{t}\\left(q_{N}\\right)-\\partial_{z}\\left(\\left(1+V_{\\text{TN}}\\right)q_{N}\\right) & =0\n",
    "\\end{align*}\n",
    "\n",
    "Definimos $V_{\\text{T}},V_{\\text{TN}}$"
   ]
  },
  {
   "cell_type": "code",
   "execution_count": 16,
   "id": "ebe1d63b54aa5ce6",
   "metadata": {
    "ExecuteTime": {
     "end_time": "2023-08-22T17:44:40.800550400Z",
     "start_time": "2023-08-22T17:44:40.769219600Z"
    },
    "collapsed": false
   },
   "outputs": [],
   "source": [
    "def get_terminalvelocity(r):\n",
    "    y = r/1000\n",
    "    return y\n",
    "\n",
    "def get_aerosolvelocity(r):\n",
    "    y = r/1000\n",
    "    return y"
   ]
  },
  {
   "cell_type": "markdown",
   "id": "521e09680c7c8def",
   "metadata": {
    "collapsed": false
   },
   "source": [
    "Ya con todas las funciones terminadas, procedemos a resolver el sistema de ecuaciones, para eso usaremos las diferencias finifas, por ejemplo, para $\\theta$\n",
    "$$\\partial_t(\\theta)-\\partial_z(\\theta)=0$$, sustituyendo las derivadas parciales, por los cocientes diferenciales tenemos lo siguiente.\n",
    "\\begin{align*}\n",
    "\\dfrac{\\theta\\left(z,t+\\Delta t\\right)-\\theta\\left(z,t\\right)}{\\Delta t} & =\\dfrac{\\theta\\left(z+\\Delta z,t\\right)-\\theta\\left(z,t\\right)}{\\Delta z}\\\\\n",
    "\\theta\\left(z,t+\\Delta t\\right) & =\\theta\\left(z,t\\right)+\\dfrac{\\Delta t}{\\Delta z}\\left[\\theta\\left(z+\\Delta z,t\\right)-\\theta\\left(z,t\\right)\\right]\n",
    "\\end{align*}\n",
    "Esto lo haremos para cada función, y tendremos lo siguiente\n",
    "\\begin{align*}\n",
    "\\theta\\left(z,t+\\Delta t\\right) & =\\theta\\left(z,t\\right)+\\dfrac{\\Delta t}{\\Delta z}\\left[\\theta\\left(z+\\Delta z,t\\right)-\\theta\\left(z,t\\right)\\right]\\\\\n",
    "q_{v}\\left(z,t+\\Delta t\\right) & =q_{v}\\left(z,t\\right)+\\dfrac{\\Delta t}{\\Delta z}\\left[q_{v}\\left(z+\\Delta z,t\\right)-q_{v}\\left(z,t\\right)\\right]\\\\\n",
    "q_{r}\\left(z,t+\\Delta t\\right) & =q_{r}\\left(z,t\\right)+\\dfrac{\\Delta t}{\\Delta z}\\left[\\left(1+V_{T}\\left(q_{r}\\left(z+\\Delta z\\right)\\right)\\right)q_{r}\\left(z+\\Delta z,t\\right)-\\left(1+V_{T}\\left(q_{r}\\left(z\\right)\\right)\\right)q_{r}\\left(z,t\\right)\\right]\\\\\n",
    "q_{N}\\left(z,t+\\Delta t\\right) & =q_{N}\\left(z,t\\right)+\\dfrac{\\Delta t}{\\Delta z}\\left[\\left(1+V_{TN}\\left(q_{r}\\left(z+\\Delta z\\right)\\right)\\right)q_{N}\\left(z+\\Delta z,t\\right)-\\left(1+V_{TN}\\left(q_{r}\\left(z+\\Delta z\\right)\\right)\\right)q_{N}\\left(z,t\\right)\\right]\n",
    "\\end{align*}\n",
    "Considerando que $i$ corresponde al espacio y $j$ al tiempo, tenemos el sistema de forma más compacta"
   ]
  },
  {
   "cell_type": "code",
   "execution_count": 17,
   "id": "ff130ca50697f75a",
   "metadata": {
    "ExecuteTime": {
     "end_time": "2023-08-22T17:44:46.331431Z",
     "start_time": "2023-08-22T17:44:46.300185700Z"
    },
    "collapsed": false
   },
   "outputs": [],
   "source": [
    "def one_sided_v1(dt, dz, u, v0):\n",
    "    m = np.shape(u)[0]\n",
    "    aux = np.zeros((m,5))\n",
    "    dzt = dt / dz\n",
    "    vel = u[:,0]\n",
    "    tem = u[:,1]\n",
    "    qv = u[:,2]\n",
    "    qr = u[:,3]\n",
    "    qn = u[:,4]\n",
    "    for i in range(1,m-1):\n",
    "        aux[i, 0] = v0\n",
    "        aux[i, 1] = tem[i] - dzt * v0 * (tem[i + 1] - tem[i]) \n",
    "        aux[i, 2] = qv[i] - dzt * v0 * (qv[i + 1] - qv[i])\n",
    "        aux[i, 3] = qr[i] - dzt * v0 * (qr[i + 1] - qr[i])\n",
    "        aux[i, 4] = qn[i] - dzt * v0 * (qn[i + 1] - qn[i])\n",
    "        aux[0, :] = aux[1, :]\n",
    "        aux[-1,:] = aux[-2, :]\n",
    "    return aux"
   ]
  },
  {
   "cell_type": "markdown",
   "id": "eda56fff12c89ee0",
   "metadata": {
    "collapsed": false
   },
   "source": [
    "Entonces, hacemos la prueba. Por lo tanto, debemos definir $\\Delta t$"
   ]
  },
  {
   "cell_type": "code",
   "execution_count": 18,
   "id": "e36b4bf6192ee852",
   "metadata": {
    "ExecuteTime": {
     "end_time": "2023-08-22T17:44:49.268898500Z",
     "start_time": "2023-08-22T17:44:49.233898700Z"
    },
    "collapsed": false
   },
   "outputs": [],
   "source": [
    "cfl = 0.9\n",
    "dt = cfl * dz / np.max(np.abs(workspace))\n",
    "\n",
    "# v_test = -1\n",
    "# while t_0 < t_f:\n",
    "#    workspace = one_sided_v1(dt,dz, workspace,v_test)\n",
    "#    dt = cfl * dz\n",
    "#    t_0 += dt"
   ]
  },
  {
   "cell_type": "markdown",
   "id": "aedb1afd562a574d",
   "metadata": {
    "collapsed": false
   },
   "source": [
    "Para corregir este problema, debemos modificar la función que calcula la solución, mediante un criterio de estabilidad."
   ]
  },
  {
   "cell_type": "code",
   "execution_count": 19,
   "id": "5670706b65ad6a1",
   "metadata": {
    "ExecuteTime": {
     "end_time": "2023-08-22T17:44:50.394750100Z",
     "start_time": "2023-08-22T17:44:50.363493400Z"
    },
    "collapsed": false
   },
   "outputs": [],
   "source": [
    "def one_sided_v2(dt, dz, u, v0):\n",
    "    m = np.shape(u)[0]\n",
    "    aux = np.zeros((m,5))\n",
    "    dzt = dt / dz\n",
    "    vel = u[:,0]\n",
    "    tem = u[:,1]\n",
    "    qv = u[:,2]\n",
    "    qr = u[:,3]\n",
    "    qn = u[:,4]\n",
    "    for i in range(1,m-1):\n",
    "        if v0 < 0:\n",
    "            aux[i, 0] = v0\n",
    "            aux[i, 1] = tem[i] - dzt * v0 * (tem[i + 1] - tem[i]) \n",
    "            aux[i, 2] = qv[i] - dzt * v0 * (qv[i + 1] - qv[i])\n",
    "            aux[i, 3] = qr[i] - dzt * v0 * (qr[i + 1] - qr[i])\n",
    "            aux[i, 4] = qn[i] - dzt * v0 * (qn[i + 1] - qn[i])\n",
    "        else:\n",
    "            aux[i, 0] = v0\n",
    "            aux[i, 1] = tem[i] - dzt * v0 * (tem[i] - tem[i - 1]) \n",
    "            aux[i, 2] = qv[i] - dzt * v0 * (qv[i] - qv[i - 1])\n",
    "            aux[i, 3] = qr[i] - dzt * v0 * (qr[i] - qr[i - 1])\n",
    "            aux[i, 4] = qn[i] - dzt * v0 * (qn[i] - qn[i - 1])\n",
    "        aux[0, :] = aux[1, :]\n",
    "        aux[-1,:] = aux[-2, :]\n",
    "    return aux"
   ]
  },
  {
   "cell_type": "markdown",
   "id": "4de58f2cec5b3b4d",
   "metadata": {
    "collapsed": false
   },
   "source": [
    "Ahora, reintentando veremos que el sistema funciona, sin embargo, aun falta agregar las funciones $V_\\text{T},V_{\\text{TN}}$"
   ]
  },
  {
   "cell_type": "code",
   "execution_count": 20,
   "id": "b80421357e91fb2f",
   "metadata": {
    "ExecuteTime": {
     "end_time": "2023-08-22T17:44:51.846220500Z",
     "start_time": "2023-08-22T17:44:51.814971900Z"
    },
    "collapsed": false
   },
   "outputs": [],
   "source": [
    "def one_sided_v3(dt, dz, u, v0):\n",
    "    m = np.shape(u)[0]\n",
    "    aux = np.zeros((m,5))\n",
    "    dzt = dt / dz\n",
    "    vel = u[:,0]\n",
    "    tem = u[:,1]\n",
    "    qv = u[:,2]\n",
    "    qr = u[:,3]\n",
    "    qn = u[:,4]\n",
    "    for i in range(1,m-1):\n",
    "        if v0 < 0:\n",
    "            aux[i, 0] = v0\n",
    "            aux[i, 1] = tem[i] - dzt * v0 * (tem[i + 1] - tem[i]) \n",
    "            aux[i, 2] = qv[i] - dzt * v0 * (qv[i + 1] - qv[i])\n",
    "            aux[i, 3] = qr[i] - dzt * ((v0 - get_terminalvelocity(qr[i + 1])) * qr[i + 1] - (v0 - get_terminalvelocity(qr[i])) * qr[i])\n",
    "            aux[i, 4] = qn[i] - dzt * v0 * (qn[i + 1] - qn[i])\n",
    "        else:\n",
    "            aux[i, 0] = v0\n",
    "            aux[i, 1] = tem[i] - dzt * v0 * (tem[i] - tem[i - 1]) \n",
    "            aux[i, 2] = qv[i] - dzt * v0 * (qv[i] - qv[i - 1])\n",
    "            aux[i, 3] = qr[i] - dzt * ((v0 - get_terminalvelocity(qr[i])) * qr[i] - (v0 - get_terminalvelocity(qr[i - 1])) * qr[i - 1])\n",
    "            aux[i, 4] = qn[i] - dzt * v0 * (qn[i] - qn[i - 1])\n",
    "        aux[0, :] = aux[1, :]\n",
    "        aux[-1,:] = aux[-2, :]\n",
    "    return aux"
   ]
  },
  {
   "cell_type": "code",
   "execution_count": 21,
   "id": "1481af2572f572b0",
   "metadata": {
    "ExecuteTime": {
     "end_time": "2023-08-22T17:44:52.635249300Z",
     "start_time": "2023-08-22T17:44:52.603995900Z"
    },
    "collapsed": false
   },
   "outputs": [],
   "source": [
    "def resol_test1(t_0, t_f, dt, dz, v_test, workspace):    \n",
    "    while t_0 < t_f:\n",
    "        workspace = one_sided_v3(dt,dz, workspace,v_test)\n",
    "        dt = cfl * dz\n",
    "        t_0 += dt\n",
    "    workspace_plots(workspace)\n",
    "    return workspace"
   ]
  },
  {
   "cell_type": "code",
   "execution_count": 22,
   "id": "ef21c6a56698284a",
   "metadata": {
    "ExecuteTime": {
     "end_time": "2023-08-22T17:44:54.088336600Z",
     "start_time": "2023-08-22T17:44:54.046001700Z"
    },
    "collapsed": false
   },
   "outputs": [],
   "source": [
    "# print(resol_test(t_0, t_f, dt, dz, -1, workspace))"
   ]
  },
  {
   "cell_type": "code",
   "execution_count": 23,
   "id": "ff4df65d0c8d08ea",
   "metadata": {
    "ExecuteTime": {
     "end_time": "2023-08-22T17:44:54.616894200Z",
     "start_time": "2023-08-22T17:44:54.585633900Z"
    },
    "collapsed": false
   },
   "outputs": [],
   "source": [
    "def one_sided_v4(dt, dz, u, v0):\n",
    "    m = np.shape(u)[0]\n",
    "    aux = np.zeros((m,5))\n",
    "    dzt = dt / dz\n",
    "    vel = u[:,0]\n",
    "    tem = u[:,1]\n",
    "    qv = u[:,2]\n",
    "    qr = u[:,3]\n",
    "    qn = u[:,4]\n",
    "    for i in range(1,m-1):\n",
    "        if v0 < 0:\n",
    "            aux[i, 0] = v0\n",
    "            aux[i, 1] = tem[i] - dzt * v0 * (tem[i + 1] - tem[i]) \n",
    "            aux[i, 2] = qv[i] - dzt * v0 * (qv[i + 1] - qv[i])\n",
    "            aux[i, 3] = qr[i] - dzt * ((v0 - get_terminalvelocity(qr[i + 1])) * qr[i + 1] - (v0 - get_terminalvelocity(qr[i])) * qr[i])\n",
    "            aux[i, 4] = qn[i] - dzt * ((v0 - get_aerosolvelocity(qr[i + 1])) * qn[i + 1] - (v0 - get_aerosolvelocity(qr[i + 1])) * qn[i])\n",
    "        else:\n",
    "            aux[i, 0] = v0\n",
    "            aux[i, 1] = tem[i] - dzt * v0 * (tem[i] - tem[i - 1]) \n",
    "            aux[i, 2] = qv[i] - dzt * v0 * (qv[i] - qv[i - 1])\n",
    "            aux[i, 3] = qr[i] - dzt * ((v0 - get_terminalvelocity(qr[i])) * qr[i] - (v0 - get_terminalvelocity(qr[i - 1])) * qr[i - 1])\n",
    "            aux[i, 4] = qn[i] - dzt * ((v0 - get_aerosolvelocity(qr[i + 1])) * qn[i] - (v0 - get_aerosolvelocity(qr[i + 1])) * qn[i - 1])\n",
    "        aux[0, :] = aux[1, :]\n",
    "        aux[-1,:] = aux[-2, :]\n",
    "    return aux"
   ]
  },
  {
   "cell_type": "code",
   "execution_count": 24,
   "id": "23d408cb830c1f32",
   "metadata": {
    "ExecuteTime": {
     "end_time": "2023-08-22T17:44:55.327354500Z",
     "start_time": "2023-08-22T17:44:55.296109100Z"
    },
    "collapsed": false
   },
   "outputs": [],
   "source": [
    "# print(resol_test(t_0, t_f, dt, dz, -1, workspace))"
   ]
  },
  {
   "cell_type": "markdown",
   "id": "56551ac248bd9ff7",
   "metadata": {
    "collapsed": false
   },
   "source": [
    "Entonces, procedemos a agregar las funciones $V_{\\text{T}},V_{\\text{TN}}$ del modelo original. Para ello vamos a importarlas. "
   ]
  },
  {
   "cell_type": "code",
   "execution_count": 25,
   "id": "4d9e9a0e6a6e1bc0",
   "metadata": {
    "ExecuteTime": {
     "end_time": "2023-08-22T17:44:56.462177Z",
     "start_time": "2023-08-22T17:44:56.400895100Z"
    },
    "collapsed": false
   },
   "outputs": [],
   "source": [
    "import atmosmodel as atm"
   ]
  },
  {
   "cell_type": "code",
   "execution_count": 38,
   "id": "6ee621aee8d9eed5",
   "metadata": {
    "ExecuteTime": {
     "end_time": "2023-08-22T17:48:03.236097300Z",
     "start_time": "2023-08-22T17:48:03.220472300Z"
    },
    "collapsed": false
   },
   "outputs": [],
   "source": [
    "def one_sided_v5(dt, dz, u, v0,vpar2):\n",
    "    m = np.shape(u)[0]\n",
    "    aux = np.zeros((m,5))\n",
    "    dzt = dt / dz\n",
    "    vt0 = vpar2[0]\n",
    "    vtnd =vpar2[1]\n",
    "    q_star = vpar2[2]\n",
    "    vel = u[:,0]\n",
    "    tem = u[:,1]\n",
    "    qv = u[:,2]\n",
    "    qr = u[:,3]\n",
    "    qn = u[:,4]\n",
    "    for i in range(1,m-1):\n",
    "        if v0 < 0:\n",
    "            aux[i, 0] = v0\n",
    "            aux[i, 1] = tem[i] - dzt * v0 * (tem[i + 1] - tem[i]) \n",
    "            aux[i, 2] = qv[i] - dzt * v0 * (qv[i + 1] - qv[i])\n",
    "            aux[i, 3] = (qr[i] - dzt * \n",
    "                         ((v0 - atm.get_terminalvelocity(vt0, qr[i + 1], q_star)) * qr[i + 1] - (v0 - atm.get_terminalvelocity(vt0, qr[i],q_star)) * qr[i]))\n",
    "            aux[i, 4] = (qn[i] - dzt * \n",
    "                         ((v0 - atm.get_aerosolvelocity(vtnd, vt0, qr[i + 1], q_star)) * qn[i + 1] - (v0 - atm.get_aerosolvelocity(vtnd,vt0,qr[i],q_star)) * qn[i]))\n",
    "        else:\n",
    "            aux[i, 0] = v0\n",
    "            aux[i, 1] = tem[i] - dzt * v0 * (tem[i] - tem[i - 1]) \n",
    "            aux[i, 2] = qv[i] - dzt * v0 * (qv[i] - qv[i - 1])\n",
    "            aux[i, 3] = (qr[i] - dzt * \n",
    "                         ((v0 - atm.get_terminalvelocity(vt0, qr[i], q_star)) * qr[i] - (v0 - atm.get_terminalvelocity(vt0, qr[i - 1],q_star)) * qr[i - 1]))\n",
    "            aux[i, 4] = (qn[i] - dzt * \n",
    "                         ((v0 - atm.get_aerosolvelocity(vtnd, vt0, qr[i], q_star)) * qn[i] - (v0 - atm.get_aerosolvelocity(vtnd, vt0, qr[i - 1],q_star)) * qn[i - 1]))\n",
    "       # Antes de cambiarlo, funciona.\n",
    "        aux[0, :] = aux[1, :]\n",
    "        aux[-1,:] = aux[-2, :]\n",
    "    return aux"
   ]
  },
  {
   "cell_type": "code",
   "execution_count": 39,
   "id": "8bbefa09c9f521d2",
   "metadata": {
    "ExecuteTime": {
     "end_time": "2023-08-22T17:48:05.074349900Z",
     "start_time": "2023-08-22T17:48:05.043113600Z"
    },
    "collapsed": false
   },
   "outputs": [],
   "source": [
    "q_parameters = np.array([p.vt0,p.vtnd,p.q_star])\n",
    "\n",
    "def resol_test(t_0, t_f, dt, dz, v_test, workspace, q_parameters):    \n",
    "    while t_0 < t_f:\n",
    "        workspace = one_sided_v5(dt, dz, workspace, v_test, q_parameters)\n",
    "        dt = cfl * dz\n",
    "        t_0 += dt\n",
    "    # workspace_plots(workspace)\n",
    "    return(workspace)"
   ]
  },
  {
   "cell_type": "code",
   "execution_count": 40,
   "id": "bef2ce3ac0d46741",
   "metadata": {
    "ExecuteTime": {
     "end_time": "2023-08-22T17:48:07.328097600Z",
     "start_time": "2023-08-22T17:48:06.628962400Z"
    },
    "collapsed": false
   },
   "outputs": [
    {
     "data": {
      "image/png": "[encoded data removed]",
      "text/plain": [
       "<Figure size 640x480 with 2 Axes>"
      ]
     },
     "metadata": {},
     "output_type": "display_data"
    },
    {
     "data": {
      "image/png": "[encoded data removed]",
      "text/plain": [
       "<Figure size 640x480 with 4 Axes>"
      ]
     },
     "metadata": {},
     "output_type": "display_data"
    }
   ],
   "source": [
    "workspace_plots(resol_test(t_0,t_f,dt,dz,-1,workspace,q_parameters))"
   ]
  }
 ],
 "metadata": {
  "kernelspec": {
   "display_name": "Python 3",
   "language": "python",
   "name": "python3"
  },
  "language_info": {
   "codemirror_mode": {
    "name": "ipython",
    "version": 2
   },
   "file_extension": ".py",
   "mimetype": "text/x-python",
   "name": "python",
   "nbconvert_exporter": "python",
   "pygments_lexer": "ipython2",
   "version": "3.10.9"
  }
 },
 "nbformat": 4,
 "nbformat_minor": 5
}
